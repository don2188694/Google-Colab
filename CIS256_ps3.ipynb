{
  "nbformat": 4,
  "nbformat_minor": 0,
  "metadata": {
    "colab": {
      "provenance": [],
      "include_colab_link": true
    },
    "kernelspec": {
      "name": "python3",
      "display_name": "Python 3"
    },
    "language_info": {
      "name": "python"
    }
  },
  "cells": [
    {
      "cell_type": "markdown",
      "metadata": {
        "id": "view-in-github",
        "colab_type": "text"
      },
      "source": [
        "<a href=\"https://colab.research.google.com/github/don2188694/Google-Colab/blob/main/CIS256_ps3.ipynb\" target=\"_parent\"><img src=\"https://colab.research.google.com/assets/colab-badge.svg\" alt=\"Open In Colab\"/></a>"
      ]
    },
    {
      "cell_type": "markdown",
      "source": [
        "Sudoku Solver Project:\n",
        "\n",
        "In this project, you will complete a Python-based Sudoku solver. You will start with a given code template and use logical reasoning, recursion, and backtracking to solve any valid Sudoku puzzle.\n",
        "\n",
        "Project Objectives:\n",
        "Understand the Game of Sudoku:\n",
        "\n",
        "Sudoku is a logic-based, combinatorial number-placement puzzle. The objective is to fill a 9×9 grid with digits (1 to 9), so each row, each column, and each of the nine 3×3 subgrids contain all of the digits from 1 to 9 without repetition.\n",
        "\n",
        "Explore the Code:\n",
        "\n",
        "The provided template contains basic structures, including how the board is represented (using a 2D list) and basic utility functions.\n",
        "Study the functions provided and understand how they relate to solving Sudoku.\n",
        "Implement the Solver:\n",
        "\n",
        "Write a function that uses backtracking to solve the Sudoku puzzle.\n",
        "The algorithm should attempt to place a number in the first available empty space, then recursively try to solve the rest of the board. If it encounters a conflict, it should backtrack by removing the last number placed and trying the next number.\n",
        "\n",
        "Test with Different Boards:\n",
        "\n",
        "Use the board.csv file provided to load different Sudoku puzzles.\n",
        "\n",
        "Key Challenges:\n",
        "\n",
        "Implementing the backtracking algorithm.\n",
        "Handling edge cases where the board has multiple solutions or no solution.\n",
        "Optimizing your algorithm for performance when solving more complex puzzles.\n",
        "\n",
        "Submission:\n",
        "\n",
        "Complete your implementation by filling in the missing parts of the code.\n",
        "Submit your solution by copying the code to your own workspace, along with comments explaining your approach."
      ],
      "metadata": {
        "id": "STtG5jmNyBPK"
      }
    },
    {
      "cell_type": "markdown",
      "source": [
        "[board.csv](https://drive.google.com/file/d/1RdT_TO36zre5nHWMlUsEm2_ryqMhw7kF/view?usp=sharing)\n"
      ],
      "metadata": {
        "id": "eYcssekQzU7B"
      }
    },
    {
      "cell_type": "code",
      "execution_count": 3,
      "metadata": {
        "id": "iH7yMDOjyAjs",
        "outputId": "658e277c-fb5d-4ff1-9788-9a09ccf941b2",
        "colab": {
          "base_uri": "https://localhost:8080/",
          "height": 159
        }
      },
      "outputs": [
        {
          "output_type": "stream",
          "name": "stderr",
          "text": [
            "usage: colab_kernel_launcher.py [-h] [-p PATH]\n",
            "colab_kernel_launcher.py: error: unrecognized arguments: -f /root/.local/share/jupyter/runtime/kernel-b397c760-6360-4f7a-b2f2-7a7a1ce3696d.json\n"
          ]
        },
        {
          "output_type": "error",
          "ename": "SystemExit",
          "evalue": "2",
          "traceback": [
            "An exception has occurred, use %tb to see the full traceback.\n",
            "\u001b[0;31mSystemExit\u001b[0m\u001b[0;31m:\u001b[0m 2\n"
          ]
        },
        {
          "output_type": "stream",
          "name": "stderr",
          "text": [
            "/usr/local/lib/python3.11/dist-packages/IPython/core/interactiveshell.py:3561: UserWarning: To exit: use 'exit', 'quit', or Ctrl-D.\n",
            "  warn(\"To exit: use 'exit', 'quit', or Ctrl-D.\", stacklevel=1)\n"
          ]
        }
      ],
      "source": [
        "'''\n",
        "Name : sudoku.py\n",
        "Author  : FirstName LastName\n",
        "Version : 1.0\n",
        "Description : A Sudoku Solver\n",
        "'''\n",
        "import csv\n",
        "import argparse\n",
        "from typing import List\n",
        "\n",
        "#Let's start with a simple sudoku solver:\n",
        "#basic rules: 9x9 matrix, unique numbers (1-9) in each row, col and 3x3 sub-matrix\n",
        "class Sudoku:\n",
        "    def __init__(self, board):\n",
        "        self.board = board\n",
        "        self.print_soduko()\n",
        "        self.M = len(board) #num of rows\n",
        "        self.N = len(board[0]) #num of cols\n",
        "\n",
        "    def isAllowed(self, number, coord):\n",
        "        #FIXME(1)\n",
        "        '''\n",
        "        Given a number and coord (row,col), return if this number is allowe in sudoku\n",
        "        '''\n",
        "        row, col = coord\n",
        "\n",
        "        if number in self.board[row]:\n",
        "            return False\n",
        "\n",
        "        for i in range(9):\n",
        "            if self.board[i][col] == number:\n",
        "                return False\n",
        "\n",
        "        box_row_start = (row // 3) * 3\n",
        "        box_col_start = (col // 3) * 3\n",
        "        for i in range(3):\n",
        "            for j in range(3):\n",
        "                if self.board[box_row_start + i][box_col_start + j] == number:\n",
        "                    return False\n",
        "\n",
        "        return True\n",
        "        #get row,col = coord\n",
        "\n",
        "        #find which box the number belong:\n",
        "\n",
        "        #check row\n",
        "\n",
        "        #check col\n",
        "\n",
        "        #check box\n",
        "\n",
        "\n",
        "\n",
        "    def solve(self):\n",
        "        #FIXME: (2)\n",
        "        '''\n",
        "        recursively explore each number in the empty slot and backtrack if dead end reached\n",
        "        if find one solution, return\n",
        "        else return False, aka, no solution.\n",
        "        '''\n",
        "        for row in range(9):\n",
        "            for col in range(9):\n",
        "                if self.board[row][col] == 0:\n",
        "                    for num in range(1, 10):\n",
        "                        if self.isAllowed(num, (row, col)):\n",
        "                            self.board[row][col] = num\n",
        "                            if self.solve():\n",
        "                                return True\n",
        "                            self.board[row][col] = 0\n",
        "                    return False\n",
        "        return True\n",
        "        #let's solve it using back tracking, like in the maze,\n",
        "        #we also call it the depth first search\n",
        "        #iterate each row and col: (double loop)\n",
        "             #try test all possible number in that row and col if self.board[row][col] is empty.\n",
        "                #if one of the num is allowed there (using the allowed function)\n",
        "                #recursively call the solve() with the new move\n",
        "                    #if solve() returns true:\n",
        "                        #return True\n",
        "\n",
        "             #else:\n",
        "                #if here, no solution found for that slot, back tracking\n",
        "                # clean the solt for next try\n",
        "                # return False since all else failed\n",
        "\n",
        "        #when out of the outer loop, you've either found a solution or no solution found:\n",
        "        #return True\n",
        "\n",
        "    def backtrack(self, i, j):\n",
        "        '''\n",
        "        you can use this function to check the answer (replace self.solve() with self.backtrack(...))\n",
        "        it provides another point of view for backtracking recursively\n",
        "        '''\n",
        "        if j == self.N: #continue with next row if col is out of boundary\n",
        "            return self.backtrack(i+1,0)\n",
        "        if i == self.M: #found one solution, return base case\n",
        "            return True\n",
        "        if self.board[i][j] != 0:\n",
        "            #skip it, this is the location that has pre-defined numbers\n",
        "            return self.backtrack(i, j+1)\n",
        "        for num in range(1,10):\n",
        "            if not self.isAllowed(num, (i,j)):\n",
        "                continue\n",
        "            self.board[i][j] = num\n",
        "            if self.backtrack(i, j+1):\n",
        "                return True\n",
        "            self.board[i][j] = 0\n",
        "        return False #can't find the solution with 1-9\n",
        "\n",
        "\n",
        "    def print_soduko(self):\n",
        "        print(\"+\" + \"---+\"*9) #print the first row: +---+---+---+....\n",
        "        for i, row in enumerate(self.board):\n",
        "            print((\"|\" + \" {} | {} | {} |\"*3).format(*[x if x != 0 else \" \" for x in row]))\n",
        "            if i % 3 == 2:\n",
        "                print(\"+\" + \"===+\"*9)\n",
        "            else:\n",
        "                print(\"+\" + \"---+\"*9)\n",
        "\n",
        "def main(init_board):\n",
        "    sodoku = Sudoku(init_board)\n",
        "    #if sodoku.backtrack(0,0):\n",
        "    if sodoku.solve():\n",
        "        sodoku.print_soduko()\n",
        "    else:\n",
        "        print(\"No solution found for this problem!!!\")\n",
        "\n",
        "def loadBoard(csvPath: str) -> List[List]:\n",
        "    '''\n",
        "    Load a CSV file containing board data into a container\n",
        "    @param csvPath the path to the CSV file\n",
        "    @return a container holding the suduko board\n",
        "    '''\n",
        "    board =[[0 for _ in range(9)] for _ in range(9)] #note caveat: don't do this-> [[0]*9]*9 why? (hint: aliasing)\n",
        "    try:\n",
        "        with open(csvPath,'r') as file:\n",
        "            reader = csv.reader(file)\n",
        "            for i,row in enumerate(reader):\n",
        "                for j, item in enumerate(row):\n",
        "                    board[i][j] = int(item)\n",
        "\n",
        "        return board\n",
        "    except Exception as ex:\n",
        "        print(ex)\n",
        "\n",
        "\n",
        "\n",
        "if __name__ == \"__main__\":\n",
        "    parser = argparse.ArgumentParser(description='Process cmd line arguments')\n",
        "    parser.add_argument('-p','--path', default='board.csv',\n",
        "                    help='path to the csv file')\n",
        "\n",
        "    args = parser.parse_args()\n",
        "    board = loadBoard(args.path)\n",
        "    main(board)"
      ]
    },
    {
      "cell_type": "markdown",
      "source": [
        "\n",
        "\n",
        "Specifically, you must address the following rubric criteria:\n",
        "\n",
        "Code Reflection: Describe the purpose of code, techniques implemented to solve problems, challenges encountered, and approaches to overcome the challenges.\n",
        "Pseudocode or Flowchart: Provide a pseudocode or flowchart description of the code that is clear and understandable and captures accurate logic to translate to the programming language.\n",
        "Specifications and Correctness: Source code must meet its specifications and behave as desired. Correct code produces the correct output as defined by the data and problem. However, you should also produce fully functioning code with no errors that aligns with as many of the specifications as possible. You should write your code in a way that the submitted file executes, even if it does not produce the correct output. You will be given credit for partially correct output that can be viewed and seen to be partially correct.\n",
        "Annotation and Documentation: All code should also be well commented. Commenting is a practiced art that requires striking a balance between commenting everything, which adds unneeded noise to the code, and commenting nothing. Well-annotated code requires you to perform the following actions:\n",
        "Explain the purpose of lines or sections of your code, detailing the approach and method you took to achieve a specific task in the code.\n",
        "Document any section of code that is producing errors or incorrect results.\n",
        "Modular and Reusable: Programmers should develop code that is modular and reusable. Code is more flexible and maintainable if it contains functionality and responsibility in distinct methods. Your code should adhere to the single responsibility principle. Classes and methods should do only one job. If you can use a different method without changing other parts of your code, you have succeeded in creating modular methods.\n",
        "Readability: Code needs to be readable to a knowledgeable programmer. In this course, readable code requires the following characteristics:\n",
        "Consistent, appropriate whitespace (blank lines, spaces) and indentation to separate distinct parts of the code and operations\n",
        "Explicit, consistent variable names, which should clearly indicate the data they hold and be formatted consistently, for example, numOrders (camelCase) or item_cost (underscored)\n",
        "Organized structure and clear design that separates components with different responsibilities or grouping-related code into blocks\n"
      ],
      "metadata": {
        "id": "BrEnjdmT1ovN"
      }
    }
  ]
}